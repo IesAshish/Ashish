{
 "cells": [
  {
   "cell_type": "raw",
   "id": "9af0e113",
   "metadata": {},
   "source": [
    "1. In the below elements which of them are values or an expression? eg:- values can be\n",
    "integer or string and expressions will be mathematical operators.\n",
    "Values:- \"Hello\", -87.8, 6\n",
    "Expressions:- *, -, +, /"
   ]
  },
  {
   "cell_type": "raw",
   "id": "3054858b",
   "metadata": {},
   "source": [
    "2. What is the difference between string and variable?\n",
    "A variable is basically the name of the location in the primary memory of our computer.\n",
    "This can be choosen by us and it can store everything from strings to complex numbers.\n",
    "A string is the values inside the quotes assigned to a string."
   ]
  },
  {
   "cell_type": "raw",
   "id": "7fafd245",
   "metadata": {},
   "source": [
    "3. Describe three different data types.\n",
    "Numeric:- It represents the data which has numeric value like integer,floating or complex numbers.\n",
    "Sequence type:- It is the ordered collection of similar or different data types like string, List, tuple\n",
    "Boolean:- Data type with one of the two built in values i.e. True or False"
   ]
  },
  {
   "cell_type": "raw",
   "id": "a1cb02a8",
   "metadata": {},
   "source": [
    "4. What is an expression made up of? What do all expressions do?\n",
    "Expression is a construct made up of variables, operators\n",
    "Expressions are representations of value. They are different from statement in the fact that statements do something while expressions are representaion of value. For e.g. any string is also an expressions since it represents the value of the string as well."
   ]
  },
  {
   "cell_type": "raw",
   "id": "e69bb5b1",
   "metadata": {},
   "source": [
    "5. This assignment statements, like spam = 10. What is the difference between an\n",
    "expression and a statement?\n",
    "Evaluation of an expression always produce or return a result value while execution of a statement may or may not produces or displays a result value, it only does whatever the statment says."
   ]
  },
  {
   "cell_type": "code",
   "execution_count": 2,
   "id": "db30408e",
   "metadata": {},
   "outputs": [
    {
     "data": {
      "text/plain": [
       "23"
      ]
     },
     "execution_count": 2,
     "metadata": {},
     "output_type": "execute_result"
    }
   ],
   "source": [
    "#6. After running the following code, what does the variable bacon contain?\n",
    "bacon =22\n",
    "bacon+1"
   ]
  },
  {
   "cell_type": "code",
   "execution_count": 3,
   "id": "57e6d013",
   "metadata": {},
   "outputs": [
    {
     "data": {
      "text/plain": [
       "'spamspamspam'"
      ]
     },
     "execution_count": 3,
     "metadata": {},
     "output_type": "execute_result"
    }
   ],
   "source": [
    "#7. What should the values of the following two terms be?\n",
    "\"spam\"+\"spamspam\""
   ]
  },
  {
   "cell_type": "code",
   "execution_count": 4,
   "id": "151a48c8",
   "metadata": {},
   "outputs": [
    {
     "data": {
      "text/plain": [
       "'spamspamspam'"
      ]
     },
     "execution_count": 4,
     "metadata": {},
     "output_type": "execute_result"
    }
   ],
   "source": [
    "\"spam\"*3"
   ]
  },
  {
   "cell_type": "raw",
   "id": "a5ac5935",
   "metadata": {},
   "source": [
    "8. Why is eggs a valid variable name while 100 is invalid?\n",
    "eggs is a valid variable because it can assign any values like string, complex no.,float etc. whereas 100 is invalid since it is a literal which cannot assign any values."
   ]
  },
  {
   "cell_type": "raw",
   "id": "06ac9ae8",
   "metadata": {},
   "source": [
    "9. What three functions can be used to get the integer, floating-point number, or string version of a value?\n",
    "The int(), float() and str() functions will be evaluated to the integer, floating-point number, and string version of the value."
   ]
  },
  {
   "cell_type": "raw",
   "id": "5eeb248c",
   "metadata": {},
   "source": [
    "10. Why does this expression cause an error? How can you fix it?\n",
    "\"I have eaten\"+99+\"burritos\"\n",
    "This expression will not execute becuase we cannot concatinate string with interger. \n",
    "we can concatinate only string with string.\n",
    "For removing this error we need to convert int into string"
   ]
  },
  {
   "cell_type": "code",
   "execution_count": 13,
   "id": "824327dd",
   "metadata": {},
   "outputs": [],
   "source": [
    "a=\"i have eaten \" + str(99) +\" burritos\""
   ]
  },
  {
   "cell_type": "code",
   "execution_count": 14,
   "id": "b9d5d6c4",
   "metadata": {},
   "outputs": [
    {
     "data": {
      "text/plain": [
       "'i have eaten 99 burritos'"
      ]
     },
     "execution_count": 14,
     "metadata": {},
     "output_type": "execute_result"
    }
   ],
   "source": [
    "a"
   ]
  },
  {
   "cell_type": "code",
   "execution_count": null,
   "id": "dc83559d",
   "metadata": {},
   "outputs": [],
   "source": []
  }
 ],
 "metadata": {
  "kernelspec": {
   "display_name": "Python 3 (ipykernel)",
   "language": "python",
   "name": "python3"
  },
  "language_info": {
   "codemirror_mode": {
    "name": "ipython",
    "version": 3
   },
   "file_extension": ".py",
   "mimetype": "text/x-python",
   "name": "python",
   "nbconvert_exporter": "python",
   "pygments_lexer": "ipython3",
   "version": "3.9.7"
  }
 },
 "nbformat": 4,
 "nbformat_minor": 5
}
